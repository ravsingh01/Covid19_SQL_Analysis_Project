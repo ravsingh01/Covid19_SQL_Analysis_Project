{
 "cells": [
  {
   "cell_type": "code",
   "execution_count": 1,
   "id": "bf5b779a",
   "metadata": {},
   "outputs": [],
   "source": [
    "# Performing web scraping on Amazon Website to get all the required details from a given website or set of web pages:\n",
    "# For this project, we are using the following link:\n",
    "# 'https://www.amazon.de/-/en/Court-Vision-Nature-Trainers-Bordeaux/dp/B0BCGQYHKX/ref=sr_1_47_mod_primary_new?crid=1OHBU90C0EYWM&keywords=Schuhe&qid=1673480072&refinements=p_89%3ANike&rnid=669059031&s=apparel&sbo=RZvfv%2F%2FHxDF%2BO5021pAnSA%3D%3D&sprefix=%2Caps%2C70&sr=1-47&th=1&psc=1'\n",
    "\n",
    "# importing all the necessary required libraries\n",
    "from bs4 import BeautifulSoup\n",
    "import requests\n",
    "import smtplib\n",
    "import time\n",
    "import datetime"
   ]
  },
  {
   "cell_type": "code",
   "execution_count": 4,
   "id": "e7ff7e80",
   "metadata": {},
   "outputs": [],
   "source": [
    "# connecting to the website/webpage that we want to scrape:\n",
    "url = 'https://www.amazon.de/-/en/Court-Vision-Nature-Trainers-Bordeaux/dp/B0BCGQYHKX/ref=sr_1_47_mod_primary_new?crid=1OHBU90C0EYWM&keywords=Schuhe&qid=1673480072&refinements=p_89%3ANike&rnid=669059031&s=apparel&sbo=RZvfv%2F%2FHxDF%2BO5021pAnSA%3D%3D&sprefix=%2Caps%2C70&sr=1-47&th=1&psc=1'\n",
    "\n",
    "# this is used to inform or update the website which device and browser is used for scraping process\n",
    "headers = {\"User-Agent\":\"Mozilla/5.0 (Windows NT 10.0; Win64; x64) AppleWebKit/537.36 (KHTML, like Gecko) Chrome/108.0.0.0 Safari/537.36\", \"Accept-Encoding\":\"gzip, deflate\", \"Accept\":\"text/html,application/xhtml+xml,application/xml;q=0.9,*/*;q=0.8\", \"DNT\":\"1\",\"Connection\":\"close\", \"Upgrade-Insecure-Requests\":\"1\"}\n",
    "\n",
    "# to access the url by using the variable page\n",
    "page = requests.get(url, headers = headers)\n",
    "\n",
    "# to parse the entire webpage or url that is accessed by page\n",
    "full_content = BeautifulSoup(page.content, 'html.parser')\n",
    "#print(full_content)\n",
    "\n",
    "# the prettify() is used to display the data or content in a new-and-improved pretty way\n",
    "full_content2 = BeautifulSoup(full_content.prettify(), \"html.parser\")\n",
    "#print(full_content2)"
   ]
  },
  {
   "cell_type": "code",
   "execution_count": 5,
   "id": "af8d69f9",
   "metadata": {},
   "outputs": [
    {
     "name": "stdout",
     "output_type": "stream",
     "text": [
      "\n",
      "                   Nike Mid Court Vision Mid Next Nature Men's Trainers, Bordeaux black\n",
      "                  \n",
      "\n",
      "                  €79.95\n",
      "                 \n"
     ]
    }
   ],
   "source": [
    "# to print different details of the webpage, \n",
    "# find() gives the first occurence of the specified value, in our case it is productTitle\n",
    "# get_text() returns the text value of a Beautiful Soup or a Tag object, in our case it will return the text of id = productTitle\n",
    "\n",
    "\n",
    "# this will find the id = productTitle and provide the text for it\n",
    "title = full_content2.find(id = 'productTitle').get_text()\n",
    "print(title)\n",
    "\n",
    "# this will find the span class = a-offscreen and provide the text for it\n",
    "price = full_content2.find('span', class_ = 'a-offscreen').get_text()\n",
    "print(price)"
   ]
  },
  {
   "cell_type": "code",
   "execution_count": 6,
   "id": "56566b74",
   "metadata": {},
   "outputs": [
    {
     "name": "stdout",
     "output_type": "stream",
     "text": [
      "Nike Mid Court Vision Mid Next Nature Men's Trainers, Bordeaux black 79.95\n"
     ]
    }
   ],
   "source": [
    "# Now as we can see above that there is big white space before the text value\n",
    "# Therefore we need to do some data cleaning here by removing the white space\n",
    "\n",
    "title = title.strip()\n",
    "price = price.strip()\n",
    "\n",
    "#Now lets say we want to store these later in a csv file and for that we need to have only number in price and not $ sign\n",
    "# we will do it as follows\n",
    "price = price.strip()[1:]\n",
    "print(title, price)"
   ]
  },
  {
   "cell_type": "code",
   "execution_count": 7,
   "id": "9c3937a2",
   "metadata": {},
   "outputs": [
    {
     "name": "stdout",
     "output_type": "stream",
     "text": [
      "2023-01-15\n"
     ]
    }
   ],
   "source": [
    "# one important thing is to always check for the date and time, to know when this task was performed\n",
    "\n",
    "date = datetime.date.today()\n",
    "print(date)"
   ]
  },
  {
   "cell_type": "code",
   "execution_count": 8,
   "id": "0bcada29",
   "metadata": {},
   "outputs": [],
   "source": [
    "# Now we will export our data to a csv file\n",
    "\n",
    "import csv\n",
    "\n",
    "# creating the required lists of column name and data\n",
    "header = ['ProductName','Price','Date']\n",
    "data = [title,price,date]\n",
    "\n",
    "# creating a csv file and using writerow() to enter the details into it\n",
    "# in the below code, with open() will open the csv file, then comes the name which we have set as 'AmazonDataset.csv'\n",
    "# 'w' means we want to write to the file, f is used as alias for the csv file \n",
    "with open('AmazonDataset.csv','w',newline = '',encoding = 'UTF8') as f:\n",
    "    writer = csv.writer(f)\n",
    "    writer.writerow(header)  # this writes the row parameter to the file object \n",
    "    writer.writerow(data)"
   ]
  },
  {
   "cell_type": "code",
   "execution_count": 21,
   "id": "dc4fa4ae",
   "metadata": {},
   "outputs": [
    {
     "name": "stdout",
     "output_type": "stream",
     "text": [
      "                                         ProductName  Price        Date\n",
      "0  Nike Mid Court Vision Mid Next Nature Men's Tr...  79.95  2023-01-15\n",
      "1  Nike Mid Court Vision Mid Next Nature Men's Tr...  79.95  2023-01-15\n",
      "2  Nike Mid Court Vision Mid Next Nature Men's Tr...  79.95  2023-01-15\n",
      "3  Nike Mid Court Vision Mid Next Nature Men's Tr...  79.95  2023-01-15\n",
      "4  Nike Mid Court Vision Mid Next Nature Men's Tr...  79.95  2023-01-15\n",
      "5  Nike Mid Court Vision Mid Next Nature Men's Tr...  79.95  2023-01-15\n"
     ]
    }
   ],
   "source": [
    "import pandas as pd\n",
    "\n",
    "df = pd.read_csv('C:\\\\Users\\\\Ravi Singh\\\\AmazonDataset.csv')\n",
    "print(df)\n",
    "\n",
    "\n",
    "# (unicode error) 'unicodeescape' codec can't decode bytes in position 2-3: truncated \\UXXXXXXXX escape\n",
    "# this above error generally occurs when reading a csv file because of using normal string as a path, i.e, df = pd.read_csv('C:\\Users\\Ravi Singh\\AmazonDataset.csv')\n",
    "# Instead the following ways should be used as follows:\n",
    "# 1. df = pd.read_csv('C:/Users/Ravi Singh/AmazonDataset.csv')\n",
    "# 2. df = pd.read_csv(r'C:\\Users\\Ravi Singh\\AmazonDataset.csv')\n",
    "# 3. df = pd.read_csv('C:\\\\Users\\\\Ravi Singh\\\\AmazonDataset.csv')"
   ]
  },
  {
   "cell_type": "code",
   "execution_count": 20,
   "id": "02862eab",
   "metadata": {},
   "outputs": [],
   "source": [
    "# Now lets suppose we want to append more data to this csv file for different webpages\n",
    "\n",
    "with open('AmazonDataset.csv','a+',newline = '',encoding = 'UTF8') as f:\n",
    "    writer = csv.writer(f)\n",
    "    writer.writerow(data)\n",
    "    \n",
    "# we used the same code as to open a csv and write to it, but instead of 'w', we used 'a+' (reading and writing file in the append mode)\n",
    "# this will add the details to csv file, the number of times it is executed\n",
    "# now this can be done manually all the time, hence we need to automate this process of updating the csv file and run this once in a day for updating"
   ]
  },
  {
   "cell_type": "code",
   "execution_count": 24,
   "id": "b95b7acc",
   "metadata": {},
   "outputs": [],
   "source": [
    "# creating a function to execute all the required things\n",
    "\n",
    "def update_csv():\n",
    "    url = 'https://www.amazon.de/-/en/Court-Vision-Nature-Trainers-Bordeaux/dp/B0BCGQYHKX/ref=sr_1_47_mod_primary_new?crid=1OHBU90C0EYWM&keywords=Schuhe&qid=1673480072&refinements=p_89%3ANike&rnid=669059031&s=apparel&sbo=RZvfv%2F%2FHxDF%2BO5021pAnSA%3D%3D&sprefix=%2Caps%2C70&sr=1-47&th=1&psc=1'\n",
    "\n",
    "    headers = {\"User-Agent\":\"Mozilla/5.0 (Windows NT 10.0; Win64; x64) AppleWebKit/537.36 (KHTML, like Gecko) Chrome/108.0.0.0 Safari/537.36\", \"Accept-Encoding\":\"gzip, deflate\", \"Accept\":\"text/html,application/xhtml+xml,application/xml;q=0.9,*/*;q=0.8\", \"DNT\":\"1\",\"Connection\":\"close\", \"Upgrade-Insecure-Requests\":\"1\"}\n",
    "\n",
    "    page = requests.get(url, headers = headers)\n",
    "\n",
    "    full_content = BeautifulSoup(page.content, 'html.parser')\n",
    "\n",
    "    full_content2 = BeautifulSoup(full_content.prettify(), \"html.parser\")\n",
    "    \n",
    "    title = full_content2.find(id = 'productTitle').get_text()\n",
    "    \n",
    "    title = title.strip()\n",
    "    \n",
    "    price = full_content2.find('span', class_ = 'a-offscreen').get_text()\n",
    "\n",
    "    price = price.strip()[1:]\n",
    "    \n",
    "    date = datetime.date.today()\n",
    "    \n",
    "    header = ['ProductName','Price','Date']\n",
    "    \n",
    "    data = [title,price,date]\n",
    "    \n",
    "    with open('AmazonDataset.csv','a+',newline = '',encoding = 'UTF8') as f:\n",
    "        writer = csv.writer(f)\n",
    "        writer.writerow(data)\n",
    "        \n",
    "    if(price < 50):\n",
    "        send_mail()"
   ]
  },
  {
   "cell_type": "code",
   "execution_count": 25,
   "id": "2e97a8a7",
   "metadata": {},
   "outputs": [
    {
     "ename": "KeyboardInterrupt",
     "evalue": "",
     "output_type": "error",
     "traceback": [
      "\u001b[1;31m---------------------------------------------------------------------------\u001b[0m",
      "\u001b[1;31mKeyboardInterrupt\u001b[0m                         Traceback (most recent call last)",
      "\u001b[1;32m~\\AppData\\Local\\Temp\\ipykernel_20820\\1414642820.py\u001b[0m in \u001b[0;36m<module>\u001b[1;34m\u001b[0m\n\u001b[0;32m      3\u001b[0m \u001b[1;32mwhile\u001b[0m\u001b[1;33m(\u001b[0m\u001b[1;32mTrue\u001b[0m\u001b[1;33m)\u001b[0m\u001b[1;33m:\u001b[0m\u001b[1;33m\u001b[0m\u001b[1;33m\u001b[0m\u001b[0m\n\u001b[0;32m      4\u001b[0m     \u001b[0mupdate_csv\u001b[0m\u001b[1;33m(\u001b[0m\u001b[1;33m)\u001b[0m\u001b[1;33m\u001b[0m\u001b[1;33m\u001b[0m\u001b[0m\n\u001b[1;32m----> 5\u001b[1;33m     \u001b[0mtime\u001b[0m\u001b[1;33m.\u001b[0m\u001b[0msleep\u001b[0m\u001b[1;33m(\u001b[0m\u001b[1;36m3\u001b[0m\u001b[1;33m)\u001b[0m\u001b[1;33m\u001b[0m\u001b[1;33m\u001b[0m\u001b[0m\n\u001b[0m",
      "\u001b[1;31mKeyboardInterrupt\u001b[0m: "
     ]
    }
   ],
   "source": [
    "# Now to automate this process of executing the above function so that it daily updates the csv file we can do the following\n",
    "\n",
    "while(True):\n",
    "    update_csv()\n",
    "    #time.sleep(3) # this will update the file in every 3 seconds(time.sleep(3) always works in seconds)\n",
    "    time.sleep(86400) # this will update the file every day as it will be executed after every 86400 seconds, i.e 24 hours"
   ]
  },
  {
   "cell_type": "code",
   "execution_count": 26,
   "id": "0f42c33f",
   "metadata": {},
   "outputs": [
    {
     "name": "stdout",
     "output_type": "stream",
     "text": [
      "                                          ProductName  Price        Date\n",
      "0   Nike Mid Court Vision Mid Next Nature Men's Tr...  79.95  2023-01-15\n",
      "1   Nike Mid Court Vision Mid Next Nature Men's Tr...  79.95  2023-01-15\n",
      "2   Nike Mid Court Vision Mid Next Nature Men's Tr...  79.95  2023-01-15\n",
      "3   Nike Mid Court Vision Mid Next Nature Men's Tr...  79.95  2023-01-15\n",
      "4   Nike Mid Court Vision Mid Next Nature Men's Tr...  79.95  2023-01-15\n",
      "5   Nike Mid Court Vision Mid Next Nature Men's Tr...  79.95  2023-01-15\n",
      "6   Nike Mid Court Vision Mid Next Nature Men's Tr...  79.95  2023-01-15\n",
      "7   Nike Mid Court Vision Mid Next Nature Men's Tr...  79.95  2023-01-15\n",
      "8   Nike Mid Court Vision Mid Next Nature Men's Tr...  79.95  2023-01-15\n",
      "9   Nike Mid Court Vision Mid Next Nature Men's Tr...  79.95  2023-01-15\n",
      "10  Nike Mid Court Vision Mid Next Nature Men's Tr...  79.95  2023-01-15\n",
      "11  Nike Mid Court Vision Mid Next Nature Men's Tr...  79.95  2023-01-15\n",
      "12  Nike Mid Court Vision Mid Next Nature Men's Tr...  79.95  2023-01-15\n",
      "13  Nike Mid Court Vision Mid Next Nature Men's Tr...  79.95  2023-01-15\n"
     ]
    }
   ],
   "source": [
    "df = pd.read_csv('C:\\\\Users\\\\Ravi Singh\\\\AmazonDataset.csv')\n",
    "print(df)"
   ]
  },
  {
   "cell_type": "code",
   "execution_count": null,
   "id": "f4097413",
   "metadata": {},
   "outputs": [],
   "source": [
    "# Now suppose if we want to update ourself regarding this website via email for certain things, we can do following\n",
    "\n",
    "def send_mail():\n",
    "    server = smtplib.SMTP_SSL('smtp.gmail.com',465)\n",
    "    server.ehlo()\n",
    "    #server.starttls()\n",
    "    server.ehlo()\n",
    "    server.login('singhravi2501@gmail.com','xxxxxxxxxxxxxx')\n",
    "    \n",
    "    subject = \"The Shoes you want is below $50! Now is your chance to buy!\"\n",
    "    body = \"Ravi, This is the moment we have been waiting for. Now is your chance to pick up the shoes of your dreams. Don't mess it up! Link here: https://www.amazon.de/-/en/Court-Vision-Nature-Trainers-Bordeaux/dp/B0BCGQYHKX/ref=sr_1_47_mod_primary_new?crid=1OHBU90C0EYWM&keywords=Schuhe&qid=1673480072&refinements=p_89%3ANike&rnid=669059031&s=apparel&sbo=RZvfv%2F%2FHxDF%2BO5021pAnSA%3D%3D&sprefix=%2Caps%2C70&sr=1-47&th=1&psc=1\"\n",
    "   \n",
    "    msg = f\"Subject: {subject}\\n\\n{body}\"\n",
    "    \n",
    "    server.sendmail(\n",
    "        'singhravi2501@gmail.com',\n",
    "        msg\n",
    "     \n",
    "    )"
   ]
  }
 ],
 "metadata": {
  "kernelspec": {
   "display_name": "Python 3 (ipykernel)",
   "language": "python",
   "name": "python3"
  },
  "language_info": {
   "codemirror_mode": {
    "name": "ipython",
    "version": 3
   },
   "file_extension": ".py",
   "mimetype": "text/x-python",
   "name": "python",
   "nbconvert_exporter": "python",
   "pygments_lexer": "ipython3",
   "version": "3.9.13"
  }
 },
 "nbformat": 4,
 "nbformat_minor": 5
}
